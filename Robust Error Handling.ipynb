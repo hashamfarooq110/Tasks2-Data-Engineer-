{
 "cells": [
  {
   "cell_type": "code",
   "execution_count": null,
   "id": "b04eb05f",
   "metadata": {},
   "outputs": [],
   "source": [
    "#Dummy Implemented we can use this method to Implemented it Because we can Implemented it first time. \n",
    "#Additionally, implement robust error-handling mechanisms to manage potential issues, \n",
    "#such as changes in the website structure or IP address blocks.\n",
    "import requests\n",
    "from bs4 import BeautifulSoup\n",
    "\n",
    "def page_content(url):\n",
    "    try:\n",
    "        response = requests.get(url)\n",
    "        response.raise_for_status()\n",
    "        return response.text\n",
    "    except requests.exceptions.RequestException as e:\n",
    "        print(f\"Error fetching the page: {e}\")\n",
    "        return None\n",
    "\n",
    "def parse_content(html_content):\n",
    "    if html_content is None:\n",
    "        return None\n",
    "\n",
    "    try:\n",
    "        soup = BeautifulSoup(html_content, 'html.parser')\n",
    "       \n",
    "        return soup\n",
    "    except Exception as e:\n",
    "        print(f\"Error parsing the page content: {e}\")\n",
    "        return None\n",
    "\n",
    "def main():\n",
    "    url = \"https://example.com\"\n",
    "    \n",
    "    html_content = page_content(url)\n",
    "    if html_content is None:\n",
    "        print(\"Exiting due to error in fetching the page.\")\n",
    "        return\n",
    "\n",
    "    soup = parse_content(html_content)\n",
    "    if soup is None:\n",
    "        print(\"Exiting due to error in parsing the page content.\")\n",
    "        return\n",
    "\n",
    "   \n",
    "\n",
    "if __name__ == \"__main__\":\n",
    "    main()\n"
   ]
  }
 ],
 "metadata": {
  "kernelspec": {
   "display_name": "Python 3 (ipykernel)",
   "language": "python",
   "name": "python3"
  },
  "language_info": {
   "codemirror_mode": {
    "name": "ipython",
    "version": 3
   },
   "file_extension": ".py",
   "mimetype": "text/x-python",
   "name": "python",
   "nbconvert_exporter": "python",
   "pygments_lexer": "ipython3",
   "version": "3.9.7"
  }
 },
 "nbformat": 4,
 "nbformat_minor": 5
}
