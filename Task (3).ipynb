{
 "cells": [
  {
   "cell_type": "code",
   "execution_count": null,
   "id": "8699e4dd",
   "metadata": {},
   "outputs": [],
   "source": [
    "import pandas as pd\n",
    "import requests\n",
    "from bs4 import BeautifulSoup\n",
    "\n",
    "\n",
    "\n"
   ]
  },
  {
   "cell_type": "code",
   "execution_count": null,
   "id": "07f4c6ea",
   "metadata": {},
   "outputs": [],
   "source": [
    "url='https://www.zillow.com/';"
   ]
  },
  {
   "cell_type": "code",
   "execution_count": null,
   "id": "d323f8a8",
   "metadata": {},
   "outputs": [],
   "source": [
    "page=requests.get(url);\n"
   ]
  },
  {
   "cell_type": "code",
   "execution_count": null,
   "id": "dba87c1f",
   "metadata": {},
   "outputs": [],
   "source": [
    "page.content"
   ]
  },
  {
   "cell_type": "code",
   "execution_count": null,
   "id": "9bae8e34",
   "metadata": {},
   "outputs": [],
   "source": [
    "soup=BeautifulSoup(page.content,'html.parser')"
   ]
  },
  {
   "cell_type": "code",
   "execution_count": null,
   "id": "163d7f77",
   "metadata": {},
   "outputs": [],
   "source": [
    "cityzipcode=soup.findAll(attrs={'class'='sc-1dzx782-0 KiRwB  '})\n",
    "print(cityzipcode);\n",
    "Property=soup.findAll(attrs={'class'='search-list-relaxed-results'})\n",
    "print(Property)"
   ]
  },
  {
   "cell_type": "code",
   "execution_count": null,
   "id": "f5ef8877",
   "metadata": {},
   "outputs": [],
   "source": [
    "address=cityzipcode[0].text.replace('\\n',\" \");\n",
    "neighborhood=cityzipcode[1].text.replace('\\n',\" \");\n",
    "city=cityzipcode[2].text.replace('\\n',\" \");\n",
    "zipcode=cityzipcode[3].text.replace('\\n',\" \");\n",
    "PropertyTitle=Property[0].text.replace('\\n',\"\");\n",
    "Price=Property[1].text.replace('\\n',\"\");\n",
    "Url=Property[2].text.replace('\\n',\"\");\n",
    "\n"
   ]
  },
  {
   "cell_type": "code",
   "execution_count": null,
   "id": "f934e294",
   "metadata": {},
   "outputs": [],
   "source": [
    "data=[[,address,city,zipcode,PropertyTitle,Price,Url]]\n",
    "data\n",
    "\n"
   ]
  },
  {
   "cell_type": "code",
   "execution_count": 2,
   "id": "a58755a9",
   "metadata": {},
   "outputs": [
    {
     "ename": "NameError",
     "evalue": "name 'pd' is not defined",
     "output_type": "error",
     "traceback": [
      "\u001b[1;31m---------------------------------------------------------------------------\u001b[0m",
      "\u001b[1;31mNameError\u001b[0m                                 Traceback (most recent call last)",
      "\u001b[1;32m~\\AppData\\Local\\Temp/ipykernel_11936/2160885270.py\u001b[0m in \u001b[0;36m<module>\u001b[1;34m\u001b[0m\n\u001b[1;32m----> 1\u001b[1;33m \u001b[0mdf\u001b[0m\u001b[1;33m=\u001b[0m\u001b[0mpd\u001b[0m\u001b[1;33m.\u001b[0m\u001b[0mDataFrame\u001b[0m\u001b[1;33m(\u001b[0m\u001b[0mdata\u001b[0m\u001b[1;33m,\u001b[0m\u001b[0mcolumns\u001b[0m\u001b[1;33m=\u001b[0m\u001b[1;33m[\u001b[0m\u001b[1;34m'url'\u001b[0m\u001b[1;33m,\u001b[0m\u001b[1;34m'address'\u001b[0m\u001b[1;33m,\u001b[0m\u001b[1;34m'city'\u001b[0m\u001b[1;33m,\u001b[0m\u001b[1;34m'zipcode'\u001b[0m\u001b[1;33m,\u001b[0m\u001b[1;34m'PropertyTitle'\u001b[0m\u001b[1;33m,\u001b[0m\u001b[1;34m'Price'\u001b[0m\u001b[1;33m,\u001b[0m\u001b[1;34m'Url'\u001b[0m\u001b[1;33m]\u001b[0m\u001b[1;33m)\u001b[0m\u001b[1;33m;\u001b[0m\u001b[1;33m\u001b[0m\u001b[1;33m\u001b[0m\u001b[0m\n\u001b[0m",
      "\u001b[1;31mNameError\u001b[0m: name 'pd' is not defined"
     ]
    }
   ],
   "source": [
    "df=pd.DataFrame(data,columns=['url','address','city','zipcode','PropertyTitle','Price','Url']);"
   ]
  },
  {
   "cell_type": "code",
   "execution_count": null,
   "id": "c79d3229",
   "metadata": {},
   "outputs": [],
   "source": []
  }
 ],
 "metadata": {
  "kernelspec": {
   "display_name": "Python 3 (ipykernel)",
   "language": "python",
   "name": "python3"
  },
  "language_info": {
   "codemirror_mode": {
    "name": "ipython",
    "version": 3
   },
   "file_extension": ".py",
   "mimetype": "text/x-python",
   "name": "python",
   "nbconvert_exporter": "python",
   "pygments_lexer": "ipython3",
   "version": "3.9.7"
  }
 },
 "nbformat": 4,
 "nbformat_minor": 5
}
